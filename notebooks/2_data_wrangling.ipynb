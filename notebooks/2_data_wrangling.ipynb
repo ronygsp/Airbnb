{
 "cells": [
  {
   "cell_type": "markdown",
   "metadata": {},
   "source": [
    "Imports:"
   ]
  },
  {
   "cell_type": "code",
   "execution_count": 42,
   "metadata": {},
   "outputs": [],
   "source": [
    "import pandas as pd\n",
    "import matplotlib.pyplot as plt\n",
    "import seaborn as sns\n",
    "import os"
   ]
  },
  {
   "cell_type": "markdown",
   "metadata": {},
   "source": [
    "Leer los datos del dataset"
   ]
  },
  {
   "cell_type": "code",
   "execution_count": 43,
   "metadata": {},
   "outputs": [],
   "source": [
    "df = pd.read_csv('../data/raw/Airbnb_Data.csv')"
   ]
  },
  {
   "cell_type": "code",
   "execution_count": 44,
   "metadata": {},
   "outputs": [
    {
     "name": "stdout",
     "output_type": "stream",
     "text": [
      "\n",
      "Resumen de valores nulos por columna:\n",
      "id                            0\n",
      "log_price                     0\n",
      "property_type                 0\n",
      "room_type                     0\n",
      "amenities                     0\n",
      "accommodates                  0\n",
      "bathrooms                   200\n",
      "bed_type                      0\n",
      "cancellation_policy           0\n",
      "cleaning_fee                  0\n",
      "city                          0\n",
      "description                   0\n",
      "first_review              15864\n",
      "host_has_profile_pic        188\n",
      "host_identity_verified      188\n",
      "host_response_rate        18299\n",
      "host_since                  188\n",
      "instant_bookable              0\n",
      "last_review               15827\n",
      "latitude                      0\n",
      "longitude                     0\n",
      "name                          0\n",
      "neighbourhood              6872\n",
      "number_of_reviews             0\n",
      "review_scores_rating      16722\n",
      "thumbnail_url              8216\n",
      "zipcode                     966\n",
      "bedrooms                     91\n",
      "beds                        131\n",
      "dtype: int64\n"
     ]
    }
   ],
   "source": [
    "print(\"\\nResumen de valores nulos por columna:\")\n",
    "print(df.isnull().sum())"
   ]
  },
  {
   "cell_type": "markdown",
   "metadata": {},
   "source": [
    "Borrar columnas irrelevantes:"
   ]
  },
  {
   "cell_type": "code",
   "execution_count": 45,
   "metadata": {},
   "outputs": [],
   "source": [
    "cols_to_drop = ['id', 'city', 'description', 'name', 'neighbourhood', 'thumbnail_url', 'host_response_rate', 'longitude', 'latitude', 'last_review', 'first_review', 'host_since']\n",
    "df.drop(columns=cols_to_drop, inplace=True)"
   ]
  },
  {
   "cell_type": "markdown",
   "metadata": {},
   "source": [
    "## Manejo de valores faltantes:"
   ]
  },
  {
   "cell_type": "code",
   "execution_count": 47,
   "metadata": {},
   "outputs": [],
   "source": [
    "# Imputar valores faltantes:\n",
    "df['bathrooms'] = df['bathrooms'].fillna(df['bathrooms'].median())\n",
    "\n",
    "df['beds'] = df['beds'].fillna(df['beds'].median())\n",
    "\n",
    "df['bedrooms'] = df['bedrooms'].fillna(df['bedrooms'].median())\n",
    "\n",
    "df['review_scores_rating'] = df['review_scores_rating'].fillna(df['review_scores_rating'].median())\n",
    "\n",
    "# Para columnas booleanas o de dos opciones, imputar con -1\n",
    "df['host_has_profile_pic'] = df['host_has_profile_pic'].fillna(-1)\n",
    "\n",
    "df['host_identity_verified'] = df['host_identity_verified'].fillna(-1)\n",
    "\n",
    "# Imputar con 'Unknown'\n",
    "df['zipcode'] = df['zipcode'].fillna(\"Unknown\")\n",
    "\n",
    "#df['host_since'] = df['host_since'].fillna(\"Unknown\")"
   ]
  },
  {
   "cell_type": "markdown",
   "metadata": {},
   "source": [
    "Demostracion de manejo de nulos:"
   ]
  },
  {
   "cell_type": "code",
   "execution_count": 48,
   "metadata": {},
   "outputs": [
    {
     "name": "stdout",
     "output_type": "stream",
     "text": [
      "\n",
      "Nulos:\n",
      "log_price                 0\n",
      "property_type             0\n",
      "room_type                 0\n",
      "amenities                 0\n",
      "accommodates              0\n",
      "bathrooms                 0\n",
      "bed_type                  0\n",
      "cancellation_policy       0\n",
      "cleaning_fee              0\n",
      "host_has_profile_pic      0\n",
      "host_identity_verified    0\n",
      "instant_bookable          0\n",
      "number_of_reviews         0\n",
      "review_scores_rating      0\n",
      "zipcode                   0\n",
      "bedrooms                  0\n",
      "beds                      0\n",
      "dtype: int64\n"
     ]
    }
   ],
   "source": [
    "print(f'\\nNulos:\\n{df.isnull().sum()}')"
   ]
  },
  {
   "cell_type": "markdown",
   "metadata": {},
   "source": [
    "Manejo de outliers:"
   ]
  },
  {
   "cell_type": "code",
   "execution_count": 49,
   "metadata": {},
   "outputs": [
    {
     "name": "stdout",
     "output_type": "stream",
     "text": [
      "Lower bound log_price: 3.688879454113936\n",
      "Upper bound log_price: 6.052089168924417\n"
     ]
    }
   ],
   "source": [
    "# Calculamos los percentiles 1 y 99\n",
    "lower_bound = df['log_price'].quantile(0.05)\n",
    "upper_bound = df['log_price'].quantile(0.95)\n",
    "\n",
    "print(\"Lower bound log_price:\", lower_bound)\n",
    "print(\"Upper bound log_price:\", upper_bound)\n",
    "\n",
    "# Recortar los valores que estén fuera de este rango\n",
    "df['log_price'] = df['log_price'].clip(lower=lower_bound, upper=upper_bound)"
   ]
  },
  {
   "cell_type": "code",
   "execution_count": 50,
   "metadata": {},
   "outputs": [
    {
     "data": {
      "image/png": "[encoded data removed]",
      "text/plain": [
       "<Figure size 1000x600 with 1 Axes>"
      ]
     },
     "metadata": {},
     "output_type": "display_data"
    }
   ],
   "source": [
    "# Visualizar el efecto en 'log_price'\n",
    "plt.figure(figsize=(10,6))\n",
    "sns.boxplot(x=df['log_price'], color='skyblue')\n",
    "plt.title(\"Boxplot de log_price (después de recorte)\")\n",
    "plt.xlabel(\"log_price\")\n",
    "plt.show()"
   ]
  },
  {
   "cell_type": "code",
   "execution_count": 51,
   "metadata": {},
   "outputs": [
    {
     "name": "stdout",
     "output_type": "stream",
     "text": [
      "\n",
      "Forma:\n",
      "(74111, 17)\n",
      "\n",
      "Columnas:\n",
      "Index(['log_price', 'property_type', 'room_type', 'amenities', 'accommodates',\n",
      "       'bathrooms', 'bed_type', 'cancellation_policy', 'cleaning_fee',\n",
      "       'host_has_profile_pic', 'host_identity_verified', 'instant_bookable',\n",
      "       'number_of_reviews', 'review_scores_rating', 'zipcode', 'bedrooms',\n",
      "       'beds'],\n",
      "      dtype='object')\n"
     ]
    }
   ],
   "source": [
    "print(f'\\nForma:\\n{df.shape}')\n",
    "print(f'\\nColumnas:\\n{df.columns}')"
   ]
  },
  {
   "cell_type": "markdown",
   "metadata": {},
   "source": [
    "Guardar el nuevo dataset limpio en processed data:"
   ]
  },
  {
   "cell_type": "code",
   "execution_count": 52,
   "metadata": {},
   "outputs": [
    {
     "name": "stdout",
     "output_type": "stream",
     "text": [
      "Datos procesados guardados en Airbnb_Data_processed.csv\n"
     ]
    }
   ],
   "source": [
    "if os.path.exists(\"../data/processed/Airbnb_Data_processed.csv\"):\n",
    "  print(\"Eliminando archivo anterior...\")\n",
    "  os.remove(\"../data/processed/Airbnb_Data_processed.csv\")\n",
    "  \n",
    "df.to_csv('../data/processed/Airbnb_Data_processed.csv', index=False)\n",
    "print(\"Datos procesados guardados en Airbnb_Data_processed.csv\")"
   ]
  }
 ],
 "metadata": {
  "kernelspec": {
   "display_name": "Python 3",
   "language": "python",
   "name": "python3"
  },
  "language_info": {
   "codemirror_mode": {
    "name": "ipython",
    "version": 3
   },
   "file_extension": ".py",
   "mimetype": "text/x-python",
   "name": "python",
   "nbconvert_exporter": "python",
   "pygments_lexer": "ipython3",
   "version": "3.12.2"
  }
 },
 "nbformat": 4,
 "nbformat_minor": 2
}
